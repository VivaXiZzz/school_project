{
  "cells": [
    {
      "cell_type": "code",
      "execution_count": null,
      "metadata": {
        "id": "st434_M-sRSO"
      },
      "outputs": [],
      "source": [
        "import numpy as np\n",
        "from PIL import Image\n",
        "from PIL import ImageOps\n",
        "import PIL.ImageOps \n",
        "import matplotlib.pyplot as plt # визуализация\n",
        "%pylab inline\n",
        "import matplotlib.pyplot as plt\n",
        "import matplotlib.image as mpimg\n",
        "from tensorflow.keras.datasets import mnist # датасет\n",
        "from tensorflow import keras\n",
        "from tensorflow.keras.layers import Dense, Flatten, Dropout # флаттен для создания массивов из картинок, денс для сетей\n",
        "# загрузка датасета\n",
        "(x_train, y_train), (x_test, y_test) = mnist.load_data()\n",
        "\n",
        "# стандартизация входных данных, загоняем в диапазон от 0 до 1\n",
        "x_train = x_train / 255\n",
        "x_test = x_test / 255\n",
        "\n",
        "#преобразуем имена в категория в одномерный массив ну или вектор. вектор соответствует числу нейронов на выходной сети\n",
        "y_train_cat = keras.utils.to_categorical(y_train, 10)\n",
        "y_test_cat = keras.utils.to_categorical(y_test, 10)\n",
        "\n",
        "#для красоты конечный вид данных\n",
        "plt.figure(figsize=(20,10))\n",
        "for i in range(5):\n",
        "    plt.subplot(5,5,i+1)\n",
        "    plt.xticks([])\n",
        "    plt.yticks([])\n",
        "    plt.imshow(x_train[i], cmap=plt.cm.binary)\n",
        "plt.show()\n",
        "#тело нейронной сети\n",
        "model = keras.Sequential([\n",
        "    Flatten(input_shape=(28, 28, 1)), #преобразование картинки в одномерный массив\n",
        "    Dense(784, activation='relu'),\n",
        "    Dropout(0.4),\n",
        "    Dense(392, activation='relu'),\n",
        "    Dropout(0.2),\n",
        "    Dense(196, activation='relu'),\n",
        "    Dropout(0.1),\n",
        "    Dense(10, activation='softmax')\n",
        "])\n",
        "print(model.summary()) #статистика сети. Весы , нейроны на слоях\n",
        "\n",
        "#функция улучшающая работу обучения сети\n",
        "model.compile(optimizer=keras.optimizers.Adam(),\n",
        "             loss='categorical_crossentropy',\n",
        "             metrics=['accuracy'])\n",
        "#обучение сети\n",
        "model.fit(np.array(x_train), y_train_cat, batch_size=4096, epochs=32, validation_split=0.2)"
      ]
    },
    {
      "cell_type": "code",
      "execution_count": null,
      "metadata": {
        "id": "LRI4s_DAe0py"
      },
      "outputs": [],
      "source": [
        "#предсказание по тренировочной выборке\n",
        "n = random.randint(1, 10000)\n",
        "x = np.expand_dims(x_test[n], axis=0)\n",
        "res = model.predict(x)\n",
        "print('это:',np.argmax(res))\n",
        "plt.imshow(x_test[n], cmap=plt.cm.binary)\n",
        "plt.show()"
      ]
    },
    {
      "cell_type": "code",
      "execution_count": null,
      "metadata": {
        "id": "vz-jH8T_Uk2c"
      },
      "outputs": [],
      "source": [
        "from google.colab import files #импорт фото \n",
        "\n",
        "uploaded = files.upload()\n",
        "\n",
        "for fn in uploaded.keys():\n",
        "  print('User uploaded file \"{name}\" with length {length} bytes'.format(\n",
        "      name=fn, length=len(uploaded[fn])))"
      ]
    },
    {
      "cell_type": "code",
      "execution_count": 78,
      "metadata": {
        "id": "FSuwnYt7MDAW"
      },
      "outputs": [],
      "source": [
        "image_path = '/content/drive/MyDrive/Цифры/9.jpg' #путь фото в системе\n",
        "# изменили размер под количество входных нейронов\n",
        "img = Image.open(image_path)\n",
        "new_image = img.resize((28, 28))\n",
        "# поменяли палитру цвета с rgb на gray\n",
        "img = new_image.convert('L')\n",
        "# взял негатив картинки\n",
        "inverted_image = PIL.ImageOps.invert(img)\n",
        "# преобразовали в массив\n",
        "ar = np.asarray(inverted_image, dtype='uint8')"
      ]
    },
    {
      "cell_type": "code",
      "execution_count": null,
      "metadata": {
        "id": "Io7KdVQqMmD8"
      },
      "outputs": [],
      "source": [
        "#предсказание своего фото\n",
        "x = np.expand_dims(ar, axis=0)\n",
        "res = model.predict(x)\n",
        "print('это:',np.argmax(res))\n",
        "plt.imshow(ar, cmap=plt.cm.binary)\n",
        "plt.show()"
      ]
    }
  ],
  "metadata": {
    "colab": {
      "collapsed_sections": [],
      "name": "проект финальная стадия.ipynb",
      "provenance": []
    },
    "kernelspec": {
      "display_name": "Python 3",
      "name": "python3"
    },
    "language_info": {
      "name": "python"
    }
  },
  "nbformat": 4,
  "nbformat_minor": 0
}